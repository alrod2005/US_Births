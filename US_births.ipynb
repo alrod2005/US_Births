{
 "cells": [
  {
   "cell_type": "markdown",
   "metadata": {},
   "source": [
    "# US Birth Data Set"
   ]
  },
  {
   "cell_type": "markdown",
   "metadata": {},
   "source": [
    "# Open the CSV file and split based on new lines\n",
    "## Preview the first 10 entries"
   ]
  },
  {
   "cell_type": "code",
   "execution_count": 16,
   "metadata": {
    "collapsed": false
   },
   "outputs": [
    {
     "data": {
      "text/plain": [
       "['year,month,date_of_month,day_of_week,births',\n",
       " '1994,1,1,6,8096',\n",
       " '1994,1,2,7,7772',\n",
       " '1994,1,3,1,10142',\n",
       " '1994,1,4,2,11248',\n",
       " '1994,1,5,3,11053',\n",
       " '1994,1,6,4,11406',\n",
       " '1994,1,7,5,11251',\n",
       " '1994,1,8,6,8653',\n",
       " '1994,1,9,7,7910',\n",
       " '1994,1,10,1,10498']"
      ]
     },
     "execution_count": 16,
     "metadata": {},
     "output_type": "execute_result"
    }
   ],
   "source": [
    "f = open('/Users/NAVA/Desktop/US_Births/us_births.csv','r')\n",
    "text = f.read()\n",
    "\n",
    "data = text.split('\\n')\n",
    "\n",
    "data = data[0:11]\n",
    "data[0:11]"
   ]
  },
  {
   "cell_type": "markdown",
   "metadata": {},
   "source": [
    "# Function that takes in a CSV and converts the data into a list of lists\n",
    "## Preview the first 10 entries of the output"
   ]
  },
  {
   "cell_type": "code",
   "execution_count": 33,
   "metadata": {
    "collapsed": false
   },
   "outputs": [
    {
     "data": {
      "text/plain": [
       "[[1994, 1, 1, 6, 8096],\n",
       " [1994, 1, 2, 7, 7772],\n",
       " [1994, 1, 3, 1, 10142],\n",
       " [1994, 1, 4, 2, 11248],\n",
       " [1994, 1, 5, 3, 11053],\n",
       " [1994, 1, 6, 4, 11406],\n",
       " [1994, 1, 7, 5, 11251],\n",
       " [1994, 1, 8, 6, 8653],\n",
       " [1994, 1, 9, 7, 7910],\n",
       " [1994, 1, 10, 1, 10498],\n",
       " [1994, 1, 11, 2, 11706]]"
      ]
     },
     "execution_count": 33,
     "metadata": {},
     "output_type": "execute_result"
    }
   ],
   "source": [
    "def make_list(file):\n",
    "    f = open(file,'r')\n",
    "    text = f.read()\n",
    "    data = text.split('\\n')\n",
    "    data = data[1:]\n",
    "    \n",
    "    new_list = []\n",
    "    for row in data:\n",
    "       \n",
    "        split_row = row.split(',') \n",
    "        int_rows = []\n",
    "        \n",
    "        for i in split_row:\n",
    "            int_rows.append(int(i))\n",
    "            \n",
    "        new_list.append(int_rows)\n",
    "        \n",
    "    return new_list\n",
    "\n",
    "int_list = make_list('/Users/NAVA/Desktop/US_Births/us_births.csv')\n",
    "int_list[0:11]\n",
    "    \n",
    "    "
   ]
  },
  {
   "cell_type": "markdown",
   "metadata": {},
   "source": [
    "# Function that calculates the number of births each month\n",
    "## Return a dictionary that  counts the number of births associated with each month"
   ]
  },
  {
   "cell_type": "code",
   "execution_count": 37,
   "metadata": {
    "collapsed": false
   },
   "outputs": [
    {
     "data": {
      "text/plain": [
       "{1: 3232517,\n",
       " 2: 3018140,\n",
       " 3: 3322069,\n",
       " 4: 3185314,\n",
       " 5: 3350907,\n",
       " 6: 3296530,\n",
       " 7: 3498783,\n",
       " 8: 3525858,\n",
       " 9: 3439698,\n",
       " 10: 3378814,\n",
       " 11: 3171647,\n",
       " 12: 3301860}"
      ]
     },
     "execution_count": 37,
     "metadata": {},
     "output_type": "execute_result"
    }
   ],
   "source": [
    "def count_month(lst):\n",
    "    month_count = {}\n",
    "    \n",
    "    \n",
    "    for row in lst:\n",
    "        month = row[1]\n",
    "        births = row[4]\n",
    "        if month in month_count:\n",
    "            month_count[month] += births\n",
    "        else:\n",
    "            month_count[month] = births\n",
    "            \n",
    "    return month_count\n",
    "\n",
    "count_month(int_list)"
   ]
  },
  {
   "cell_type": "markdown",
   "metadata": {},
   "source": [
    "# Count the number of births each day of the week"
   ]
  },
  {
   "cell_type": "code",
   "execution_count": 38,
   "metadata": {
    "collapsed": false
   },
   "outputs": [
    {
     "data": {
      "text/plain": [
       "{1: 5789166,\n",
       " 2: 6446196,\n",
       " 3: 6322855,\n",
       " 4: 6288429,\n",
       " 5: 6233657,\n",
       " 6: 4562111,\n",
       " 7: 4079723}"
      ]
     },
     "execution_count": 38,
     "metadata": {},
     "output_type": "execute_result"
    }
   ],
   "source": [
    "\n",
    "def dayofweek_count(lst):\n",
    "    \n",
    "    day_count = {}\n",
    "       \n",
    "    for row in lst:\n",
    "        day_of_week = row[3]\n",
    "        births = row[4]\n",
    "        if day_of_week in day_count:\n",
    "            day_count[day_of_week] += births\n",
    "        else:\n",
    "            day_count[day_of_week] = births\n",
    "            \n",
    "    return day_count\n",
    "\n",
    "dayofweek_count(int_list)"
   ]
  },
  {
   "cell_type": "code",
   "execution_count": null,
   "metadata": {
    "collapsed": true
   },
   "outputs": [],
   "source": []
  }
 ],
 "metadata": {
  "kernelspec": {
   "display_name": "Python [conda root]",
   "language": "python",
   "name": "conda-root-py"
  },
  "language_info": {
   "codemirror_mode": {
    "name": "ipython",
    "version": 3
   },
   "file_extension": ".py",
   "mimetype": "text/x-python",
   "name": "python",
   "nbconvert_exporter": "python",
   "pygments_lexer": "ipython3",
   "version": "3.5.2"
  }
 },
 "nbformat": 4,
 "nbformat_minor": 1
}
